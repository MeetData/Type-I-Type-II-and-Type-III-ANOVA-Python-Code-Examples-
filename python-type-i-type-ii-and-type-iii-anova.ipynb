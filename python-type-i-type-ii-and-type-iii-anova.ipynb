{
 "cells": [
  {
   "cell_type": "markdown",
   "metadata": {},
   "source": [
    "# Type 1 ANOVA\n",
    "\n",
    "SS(A) for factor A\n",
    "SS(B | A) for factor B\n",
    "SS(AB | A, B) for interaction AB\n",
    "\n",
    "SS(A)\n",
    "SS(B | A) = SS (A, B) – SS(A)\n",
    "SS(AB|A,B) = SS (AB, A, B) – SS(A, B)\n",
    "\n",
    "# Type 2 ANOVA\n",
    "\n",
    "SS(A | B) for factor A\n",
    "SS(B | A) for factor B\n",
    "SS(AB | A, B) for interaction AB\n",
    "\n",
    "SS(A|B) = SS (A, B) – SS(B)\n",
    "SS(B|A) = SS (A, B) – SS(A)\n",
    "SS(AB|A,B) = SS (AB, A, B) – SS(A, B)\n",
    "\n",
    "# Type 3 ANOVA\n",
    "\n",
    "SS(A | B, AB) for factor A\n",
    "SS(B | A, AB) for factor B\n",
    "SS(AB | A, B) for interaction AB\n",
    "\n",
    "SS(A|B,AB) = SS (AB, A, B) – SS(AB, B)\n",
    "SS(B|A,AB)= SS (AB, A, B) – SS(AB, A)\n",
    "SS(AB|A,B)= SS (AB, A, B) – SS(A, B)"
   ]
  },
  {
   "cell_type": "markdown",
   "metadata": {},
   "source": [
    "# Step 1: Generating data\n"
   ]
  },
  {
   "cell_type": "code",
   "execution_count": 1,
   "metadata": {},
   "outputs": [
    {
     "name": "stdout",
     "output_type": "stream",
     "text": [
      "['Brand_A' 'Brand_A' 'Brand_A' 'Brand_A' 'Brand_A' 'Brand_A' 'Brand_A'\n",
      " 'Brand_A' 'Brand_A' 'Brand_A' 'Brand_A' 'Brand_A' 'Brand_A' 'Brand_A'\n",
      " 'Brand_A' 'Brand_A' 'Brand_A' 'Brand_A' 'Brand_A' 'Brand_A' 'Brand_B'\n",
      " 'Brand_B' 'Brand_B' 'Brand_B' 'Brand_B' 'Brand_B' 'Brand_B' 'Brand_B'\n",
      " 'Brand_B' 'Brand_B' 'Brand_B' 'Brand_B' 'Brand_B' 'Brand_B' 'Brand_B'\n",
      " 'Brand_B' 'Brand_B' 'Brand_B' 'Brand_B' 'Brand_B']\n"
     ]
    }
   ],
   "source": [
    "import numpy as np\n",
    "import pandas as pd\n",
    "\n",
    "Brands = np.repeat(['Brand_A','Brand_B'],20)\n",
    "print(Brands)"
   ]
  },
  {
   "cell_type": "code",
   "execution_count": 2,
   "metadata": {},
   "outputs": [
    {
     "name": "stdout",
     "output_type": "stream",
     "text": [
      "['Store_1' 'Store_2' 'Store_1' 'Store_2' 'Store_1' 'Store_2' 'Store_1'\n",
      " 'Store_2' 'Store_1' 'Store_2' 'Store_1' 'Store_2' 'Store_1' 'Store_2'\n",
      " 'Store_1' 'Store_2' 'Store_1' 'Store_2' 'Store_1' 'Store_2' 'Store_1'\n",
      " 'Store_2' 'Store_1' 'Store_2' 'Store_1' 'Store_2' 'Store_1' 'Store_2'\n",
      " 'Store_1' 'Store_2' 'Store_1' 'Store_2' 'Store_1' 'Store_2' 'Store_1'\n",
      " 'Store_2' 'Store_1' 'Store_2' 'Store_1' 'Store_2']\n"
     ]
    }
   ],
   "source": [
    "Stores = np.tile(['Store_1','Store_2'], 20)\n",
    "print(Stores)"
   ]
  },
  {
   "cell_type": "code",
   "execution_count": 3,
   "metadata": {},
   "outputs": [
    {
     "name": "stdout",
     "output_type": "stream",
     "text": [
      "[3.56435299 4.33986453 4.23246001 6.83866871 2.42707948 5.47867456\n",
      " 4.57077591 5.65497171 5.76071917 6.1884872  3.196842   6.47970742\n",
      " 6.33950437 3.69842303 5.23070843 4.97884916 4.26785467 5.70779457\n",
      " 4.08605187 3.59486698 7.18681043 7.53004382 8.15901984 9.1813522\n",
      " 9.23949979 8.04039463 8.15324758 7.45596201 8.33283073 6.44446531\n",
      " 9.95784578 6.86450825 8.21507338 6.96188718 9.21363376 7.40707548\n",
      " 7.06536653 7.49478703 6.05952939 7.64696114]\n"
     ]
    }
   ],
   "source": [
    "mu_1, sigma_1 = 5, 1 \n",
    "mu_2, sigma_2 = 8, 1 \n",
    "Sales=np.concatenate((np.random.normal(mu_1, sigma_1, 20),np.random.normal(mu_2, sigma_2, 20)))\n",
    "print(Sales)"
   ]
  },
  {
   "cell_type": "code",
   "execution_count": 4,
   "metadata": {},
   "outputs": [
    {
     "name": "stdout",
     "output_type": "stream",
     "text": [
      "     Brands   Stores     Sales\n",
      "0   Brand_A  Store_1  3.564353\n",
      "1   Brand_A  Store_2  4.339865\n",
      "2   Brand_A  Store_1  4.232460\n",
      "3   Brand_A  Store_2  6.838669\n",
      "4   Brand_A  Store_1  2.427079\n",
      "5   Brand_A  Store_2  5.478675\n",
      "6   Brand_A  Store_1  4.570776\n",
      "7   Brand_A  Store_2  5.654972\n",
      "8   Brand_A  Store_1  5.760719\n",
      "9   Brand_A  Store_2  6.188487\n",
      "10  Brand_A  Store_1  3.196842\n",
      "11  Brand_A  Store_2  6.479707\n",
      "12  Brand_A  Store_1  6.339504\n",
      "13  Brand_A  Store_2  3.698423\n",
      "14  Brand_A  Store_1  5.230708\n",
      "15  Brand_A  Store_2  4.978849\n",
      "16  Brand_A  Store_1  4.267855\n",
      "17  Brand_A  Store_2  5.707795\n",
      "18  Brand_A  Store_1  4.086052\n",
      "19  Brand_A  Store_2  3.594867\n",
      "20  Brand_B  Store_1  7.186810\n",
      "21  Brand_B  Store_2  7.530044\n",
      "22  Brand_B  Store_1  8.159020\n",
      "23  Brand_B  Store_2  9.181352\n",
      "24  Brand_B  Store_1  9.239500\n",
      "25  Brand_B  Store_2  8.040395\n",
      "26  Brand_B  Store_1  8.153248\n",
      "27  Brand_B  Store_2  7.455962\n",
      "28  Brand_B  Store_1  8.332831\n",
      "29  Brand_B  Store_2  6.444465\n",
      "30  Brand_B  Store_1  9.957846\n",
      "31  Brand_B  Store_2  6.864508\n",
      "32  Brand_B  Store_1  8.215073\n",
      "33  Brand_B  Store_2  6.961887\n",
      "34  Brand_B  Store_1  9.213634\n",
      "35  Brand_B  Store_2  7.407075\n",
      "36  Brand_B  Store_1  7.065367\n",
      "37  Brand_B  Store_2  7.494787\n",
      "38  Brand_B  Store_1  6.059529\n",
      "39  Brand_B  Store_2  7.646961\n"
     ]
    }
   ],
   "source": [
    "df_sales=pd.DataFrame({'Brands':Brands, 'Stores': Stores, 'Sales': Sales})\n",
    "print(df_sales)"
   ]
  },
  {
   "cell_type": "markdown",
   "metadata": {},
   "source": [
    "# Step 2: Use statsmodels"
   ]
  },
  {
   "cell_type": "code",
   "execution_count": 5,
   "metadata": {},
   "outputs": [
    {
     "name": "stdout",
     "output_type": "stream",
     "text": [
      "                       df     sum_sq    mean_sq          F        PR(>F)\n",
      "C(Brands)             1.0  89.920930  89.920930  79.085902  1.294847e-10\n",
      "C(Stores)             1.0   0.186123   0.186123   0.163696  6.881700e-01\n",
      "C(Brands):C(Stores)   1.0   6.272148   6.272148   5.516385  2.444815e-02\n",
      "Residual             36.0  40.932118   1.137003        NaN           NaN\n"
     ]
    }
   ],
   "source": [
    "import statsmodels.api as sm\n",
    "from statsmodels.formula.api import ols\n",
    "\n",
    "model = ols('Sales ~ C(Brands)*C(Stores)', data=df_sales).fit()\n",
    "Type1 = sm.stats.anova_lm(model, typ=1)\n",
    "print(Type1)"
   ]
  },
  {
   "cell_type": "code",
   "execution_count": 6,
   "metadata": {},
   "outputs": [
    {
     "name": "stdout",
     "output_type": "stream",
     "text": [
      "                        sum_sq    df          F        PR(>F)\n",
      "C(Brands)            89.920930   1.0  79.085902  1.294847e-10\n",
      "C(Stores)             0.186123   1.0   0.163696  6.881700e-01\n",
      "C(Brands):C(Stores)   6.272148   1.0   5.516385  2.444815e-02\n",
      "Residual             40.932118  36.0        NaN           NaN\n"
     ]
    }
   ],
   "source": [
    "Type2 = sm.stats.anova_lm(model, typ=2)\n",
    "print(Type2)"
   ]
  },
  {
   "cell_type": "code",
   "execution_count": 7,
   "metadata": {},
   "outputs": [
    {
     "name": "stdout",
     "output_type": "stream",
     "text": [
      "                         sum_sq    df           F        PR(>F)\n",
      "Intercept            190.762345   1.0  167.776426  4.066664e-15\n",
      "C(Brands)             71.845169   1.0   63.188181  1.947851e-09\n",
      "C(Stores)              4.309595   1.0    3.790310  5.938497e-02\n",
      "C(Brands):C(Stores)    6.272148   1.0    5.516385  2.444815e-02\n",
      "Residual              40.932118  36.0         NaN           NaN\n"
     ]
    }
   ],
   "source": [
    "Type3 = sm.stats.anova_lm(model, typ=3)\n",
    "print(Type3)"
   ]
  },
  {
   "cell_type": "code",
   "execution_count": null,
   "metadata": {},
   "outputs": [],
   "source": []
  }
 ],
 "metadata": {
  "kernelspec": {
   "display_name": "Python 3",
   "language": "python",
   "name": "python3"
  },
  "language_info": {
   "codemirror_mode": {
    "name": "ipython",
    "version": 3
   },
   "file_extension": ".py",
   "mimetype": "text/x-python",
   "name": "python",
   "nbconvert_exporter": "python",
   "pygments_lexer": "ipython3",
   "version": "3.7.6"
  }
 },
 "nbformat": 4,
 "nbformat_minor": 4
}
